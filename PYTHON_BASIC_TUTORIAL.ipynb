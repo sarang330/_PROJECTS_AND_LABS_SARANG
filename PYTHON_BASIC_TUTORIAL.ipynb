{
  "nbformat": 4,
  "nbformat_minor": 0,
  "metadata": {
    "colab": {
      "provenance": [],
      "mount_file_id": "1PdZNrcVXDD6CoHyQQdvuMIy4zX3B4uE5",
      "authorship_tag": "ABX9TyOX8aSE0o6Eq1XV1CmUq8YZ"
    },
    "kernelspec": {
      "name": "python3",
      "display_name": "Python 3"
    },
    "language_info": {
      "name": "python"
    }
  },
  "cells": [
    {
      "cell_type": "code",
      "execution_count": 4,
      "metadata": {
        "colab": {
          "base_uri": "https://localhost:8080/",
          "height": 53
        },
        "id": "XvM8p79PkasX",
        "outputId": "4c218293-3469-48b6-fe18-cc657dbbc8c0"
      },
      "outputs": [
        {
          "output_type": "execute_result",
          "data": {
            "text/plain": [
              "'\\nFor *list its {append, insert, remove, sort}\\nString {upper, lover, replace, split}\\nDictionaries {get, keys, values, items}\\nTuples {index, count, len}\\n'"
            ],
            "application/vnd.google.colaboratory.intrinsic+json": {
              "type": "string"
            }
          },
          "metadata": {},
          "execution_count": 4
        }
      ],
      "source": [
        "# Question 0\n",
        "'''\n",
        "For *list its {append, insert, remove, sort}\n",
        "String {upper, lover, replace, split}\n",
        "Dictionaries {get, keys, values, items}\n",
        "Tuples {index, count, len}\n",
        "'''\n"
      ]
    },
    {
      "cell_type": "code",
      "source": [
        "# Question 1\n",
        "def reverse_and_concatenate(A, B):\n",
        "    reversed_A = A[::-1]  # Reverse the first string A\n",
        "    final_string = reversed_A + B  # Concatenate the reversed A with B\n",
        "    return final_string\n",
        "string_A = \"Sarang\"\n",
        "string_B = \"Walke\"\n",
        "\n",
        "result = reverse_and_concatenate(string_A, string_B)\n",
        "print(result)"
      ],
      "metadata": {
        "colab": {
          "base_uri": "https://localhost:8080/"
        },
        "id": "pOKrWz7Qlk4X",
        "outputId": "63ad56a1-10bb-4327-81ce-c8623184ceb3"
      },
      "execution_count": 5,
      "outputs": [
        {
          "output_type": "stream",
          "name": "stdout",
          "text": [
            "gnaraSWalke\n"
          ]
        }
      ]
    },
    {
      "cell_type": "code",
      "source": [
        "# Question 2\n",
        "def calculate_highest_paid_female_worker(work_hours):\n",
        "    max_hours = 0\n",
        "    max_name = \"\"\n",
        "    for name, hours, gender in work_hours:\n",
        "        if gender == 'F' and hours > max_hours:\n",
        "            max_hours = hours\n",
        "            max_name = name\n",
        "    if max_name != \"\":\n",
        "        payment = max_hours * 20\n",
        "        print(f\"The female worker who worked the most hours is {max_name}.\")\n",
        "        print(f\"She should be paid ${payment}.\")\n",
        "    else:\n",
        "        print(\"No female workers found.\")\n",
        "work_hours = [('Abby', 100, 'F'), ('Billy', 400, 'M'), ('Cassie', 800, 'F'), ('Maggi', 600, 'F'),\n",
        "              ('Alex', 500, 'M'), ('Raj', 225, 'M'), ('Penny', 920, 'F'), ('Ben', 300, 'M')]\n",
        "calculate_highest_paid_female_worker(work_hours)\n"
      ],
      "metadata": {
        "colab": {
          "base_uri": "https://localhost:8080/"
        },
        "id": "1AYsoTGQn46W",
        "outputId": "83db6c9d-f71d-417e-ebcb-99d594ccd318"
      },
      "execution_count": 6,
      "outputs": [
        {
          "output_type": "stream",
          "name": "stdout",
          "text": [
            "The female worker who worked the most hours is Penny.\n",
            "She should be paid $18400.\n"
          ]
        }
      ]
    },
    {
      "cell_type": "code",
      "source": [
        "# Question 3 A\n",
        "import numpy as np\n",
        "\n",
        "a = np.array([1,1,1,1,1])\n",
        "b = np.array([2,2,2,2,2])\n",
        "c = np.array([3,3,3,3,3])\n",
        "d = np.array([4,4,4,4,4])\n",
        "e = np.array([5,5,5,5,5])\n",
        "\n",
        "x = np.vstack((a,b,c,d,e))\n",
        "print(x)"
      ],
      "metadata": {
        "colab": {
          "base_uri": "https://localhost:8080/"
        },
        "id": "IZZCjB7moKvM",
        "outputId": "68ecbe77-0382-4aee-d3fa-c8f589ea798e"
      },
      "execution_count": 7,
      "outputs": [
        {
          "output_type": "stream",
          "name": "stdout",
          "text": [
            "[[1 1 1 1 1]\n",
            " [2 2 2 2 2]\n",
            " [3 3 3 3 3]\n",
            " [4 4 4 4 4]\n",
            " [5 5 5 5 5]]\n"
          ]
        }
      ]
    },
    {
      "cell_type": "code",
      "source": [
        "# Question 3 B\n",
        "import numpy as np\n",
        "\n",
        "matrix1 = np.array([[45, 48], [83, 94]])\n",
        "matrix2 = np.array([[25, 56], [75, 86]])\n",
        "\n",
        "if matrix1.shape[1] == matrix2.shape[0]:\n",
        "    dot_product = np.dot(matrix1, matrix2)\n",
        "    print(\"Dot Product Result:\")\n",
        "    print(dot_product)\n",
        "else:\n",
        "    print(\"Matrix dimensions are not compatible for dot product.\")"
      ],
      "metadata": {
        "colab": {
          "base_uri": "https://localhost:8080/"
        },
        "id": "y78WMy1LpKHk",
        "outputId": "ab04f357-518e-4a45-aad6-67290cf604ed"
      },
      "execution_count": 8,
      "outputs": [
        {
          "output_type": "stream",
          "name": "stdout",
          "text": [
            "Dot Product Result:\n",
            "[[ 4725  6648]\n",
            " [ 9125 12732]]\n"
          ]
        }
      ]
    },
    {
      "cell_type": "code",
      "source": [
        "# QUESTION 3\n",
        "from google.colab import drive\n",
        "drive.mount('/content/drive')\n",
        "import os\n",
        "os.chdir(\"/content/drive/MyDrive/Sarang\")\n",
        "import matplotlib.pyplot as plt\n",
        "img = plt.imread('court.jpg')\n",
        "plt.imshow(img)\n",
        "plt.show()\n"
      ],
      "metadata": {
        "colab": {
          "base_uri": "https://localhost:8080/",
          "height": 472
        },
        "id": "nYdSth3brg8l",
        "outputId": "28117adf-b3ec-4b58-9b08-a1f58ec775cc"
      },
      "execution_count": 2,
      "outputs": [
        {
          "output_type": "stream",
          "name": "stdout",
          "text": [
            "Drive already mounted at /content/drive; to attempt to forcibly remount, call drive.mount(\"/content/drive\", force_remount=True).\n"
          ]
        },
        {
          "output_type": "display_data",
          "data": {
            "text/plain": [
              "<Figure size 640x480 with 1 Axes>"
            ],
            "image/png": "[encoded data removed]"
          },
          "metadata": {}
        }
      ]
    }
  ]
}